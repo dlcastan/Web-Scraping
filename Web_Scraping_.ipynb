{
  "nbformat": 4,
  "nbformat_minor": 0,
  "metadata": {
    "colab": {
      "provenance": []
    },
    "kernelspec": {
      "name": "python3",
      "display_name": "Python 3"
    },
    "language_info": {
      "name": "python"
    }
  },
  "cells": [
    {
      "cell_type": "markdown",
      "source": [
        "# 🕷️ - Web Scraping\n",
        "\n",
        "**Autor:** Diego Lopez Castan\n",
        "\n",
        "**URL:** https://diegolopezcastan.com/"
      ],
      "metadata": {
        "id": "ppKHJCeuIxUD"
      }
    },
    {
      "cell_type": "code",
      "source": [
        "# Instalar librerías\n",
        "from bs4 import BeautifulSoup\n",
        "import webbrowser\n",
        "import codecs\n",
        "import requests\n",
        "import re"
      ],
      "metadata": {
        "id": "F6YBySuvI2s0"
      },
      "execution_count": null,
      "outputs": []
    },
    {
      "cell_type": "code",
      "source": [
        "import os\n",
        "from IPython.display import clear_output\n",
        "import time\n",
        "\n",
        "#@markdown # Ingresar la URL para analizar 👇\n",
        "\n",
        "url = \"https://diegolopezcastan.com/sobre-diego-lopez-castan/\" #@param {type:\"string\"}\n"
      ],
      "metadata": {
        "id": "LdFmugSGMuUY",
        "cellView": "form"
      },
      "execution_count": null,
      "outputs": []
    },
    {
      "cell_type": "code",
      "source": [
        "# Analizar URL\n",
        "req = requests.get(url)\n",
        "soup = BeautifulSoup(req.text)"
      ],
      "metadata": {
        "id": "HlLJgyw3qbG1"
      },
      "execution_count": null,
      "outputs": []
    },
    {
      "cell_type": "code",
      "source": [
        "# Ver el HTML\n",
        "print(soup.prettify())"
      ],
      "metadata": {
        "id": "OLNsMVjI18Ox"
      },
      "execution_count": null,
      "outputs": []
    },
    {
      "cell_type": "code",
      "source": [
        "# Imprimir etiqueta Title\n",
        "titulo = soup.find('title').getText()\n",
        "print(titulo)"
      ],
      "metadata": {
        "id": "CSk6fX8wKbKH"
      },
      "execution_count": null,
      "outputs": []
    },
    {
      "cell_type": "code",
      "source": [
        "# Imprimir H1\n",
        "h1 = soup.find('h1').getText()\n",
        "print(h1)"
      ],
      "metadata": {
        "id": "sx5SzzvLuLd3"
      },
      "execution_count": null,
      "outputs": []
    },
    {
      "cell_type": "code",
      "source": [
        "# Imprimir Meta description\n",
        "meta_description = soup.find_all('meta',attrs={'name':'description'})\n",
        "print(meta_description)"
      ],
      "metadata": {
        "id": "wbgOEBkuvIpf"
      },
      "execution_count": null,
      "outputs": []
    },
    {
      "cell_type": "code",
      "source": [
        "# Imprimir Texto HTML\n",
        "txt = soup.find_all(class_='entry-content')\n",
        "txt = txt[0].text\n",
        "print(txt)"
      ],
      "metadata": {
        "id": "V2dqKE_-yNnl"
      },
      "execution_count": null,
      "outputs": []
    }
  ]
}